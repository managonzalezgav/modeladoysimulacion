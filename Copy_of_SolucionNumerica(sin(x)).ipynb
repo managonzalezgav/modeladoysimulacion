{
  "nbformat": 4,
  "nbformat_minor": 0,
  "metadata": {
    "colab": {
      "name": "Copia de Copia de Copy of SolucionNumerica(sin(x)).ipynb",
      "provenance": [],
      "collapsed_sections": [],
      "include_colab_link": true
    },
    "kernelspec": {
      "display_name": "Python 3",
      "language": "python",
      "name": "python3"
    }
  },
  "cells": [
    {
      "cell_type": "markdown",
      "metadata": {
        "id": "view-in-github",
        "colab_type": "text"
      },
      "source": [
        "<a href=\"https://colab.research.google.com/github/managonzalezgav/modeladoysimulacion/blob/master/Copy_of_SolucionNumerica(sin(x)).ipynb\" target=\"_parent\"><img src=\"https://colab.research.google.com/assets/colab-badge.svg\" alt=\"Open In Colab\"/></a>"
      ]
    },
    {
      "cell_type": "markdown",
      "metadata": {
        "id": "FzGlG-MAnq2J",
        "colab_type": "text"
      },
      "source": [
        "# Solución de Problemas de Valor Inicial\n",
        "\n",
        "Encuentre una aproximación a $x{(t)}$, dado:\n",
        "\n",
        "$\\dot x = f{(t, x)}$\n",
        "\n",
        "\n",
        "$x{(t)}_{(t=0)} = x_0$\n"
      ]
    },
    {
      "cell_type": "code",
      "metadata": {
        "id": "vq-ztvpDuLnY",
        "colab_type": "code",
        "colab": {}
      },
      "source": [
        ""
      ],
      "execution_count": 0,
      "outputs": []
    },
    {
      "cell_type": "code",
      "metadata": {
        "id": "lW56hptVnq2T",
        "colab_type": "code",
        "colab": {}
      },
      "source": [
        "import matplotlib.style\n",
        "matplotlib.style.use('classic')\n",
        "import numpy as np\n",
        "from matplotlib import pyplot as plt\n",
        "from math import sin\n",
        "import numpy as np"
      ],
      "execution_count": 0,
      "outputs": []
    },
    {
      "cell_type": "code",
      "metadata": {
        "id": "1fGFC9rFnq2n",
        "colab_type": "code",
        "colab": {}
      },
      "source": [
        "%matplotlib inline"
      ],
      "execution_count": 0,
      "outputs": []
    },
    {
      "cell_type": "markdown",
      "metadata": {
        "id": "vB2uI10hnq28",
        "colab_type": "text"
      },
      "source": [
        "## Método de Euler\n",
        "\n",
        "<span style=\"color:red\"> **Es un método iterativo que a partir de un valor inicial emplea la derivada para conocer la pendiente de la recta tangente en ese punto, para luego trazar una recta hasta el siguente valor con un incremento h.** </span>\n",
        "\n",
        "$x_{i+1} = x_{i} + hf_{(t_i, x_i)}$"
      ]
    },
    {
      "cell_type": "code",
      "metadata": {
        "id": "NmyWVveWnq3I",
        "colab_type": "code",
        "colab": {}
      },
      "source": [
        "def euler( f, h, tini, tfin, x0, params ):\n",
        "    ti = tini  \n",
        "    xi = x0\n",
        "  \n",
        "    x = list()\n",
        "    t = list()\n",
        "  \n",
        "    while ( ti < tfin ):\n",
        "    \n",
        "      x.append (xi)\n",
        "      t.append (ti)\n",
        "  \n",
        "      xi = xi + h*f(ti,xi,params)\n",
        "      ti = ti + h\n",
        "    return t, x    "
      ],
      "execution_count": 0,
      "outputs": []
    },
    {
      "cell_type": "markdown",
      "metadata": {
        "id": "goIVBincnq3b",
        "colab_type": "text"
      },
      "source": [
        "## Método de Runge-Kutta de Cuarto Orden\n",
        "\n",
        "<span style=\"color:red\"> ** Es un método iterativo para la aproximación de soluciones de ecuaciones diferenciales ordinarias.** </span>\n",
        "\n",
        "$k_1 = f_{(t_i, x_i)}$\n",
        "\n",
        "$k_2 = f_{(t_i + \\frac{h}{2}, x_i + \\frac{k_1}{2})}$\n",
        "\n",
        "$k_3 = f_{(t_i + \\frac{h}{2}, x_i + \\frac{k_2}{2})}$\n",
        "\n",
        "$k_4 = f_{(t_i + h, x_i + k_3)}$\n",
        "\n",
        "\n",
        "$x_{i+1} = x_i + \\frac{h}{6}(k_1 + k_2 + k_3 + k_4)$"
      ]
    },
    {
      "cell_type": "code",
      "metadata": {
        "id": "mlkcBnTinq3f",
        "colab_type": "code",
        "colab": {}
      },
      "source": [
        "def rk4( f, h, tini, tfin, x0, params ):\n",
        "    ti = tini  \n",
        "    xi = x0\n",
        "  \n",
        "    x = list()\n",
        "    t = list()\n",
        "  \n",
        "    while ( ti < tfin ):\n",
        "\n",
        "      x.append (xi)\n",
        "      t.append (ti)\n",
        "      k1 = f( ti,xi,params)\n",
        "      k2 = f( ti + 0.5*h,xi + 0.5*k1*h,params )\n",
        "      k3 = f( ti + 0.5*h,xi + 0.5*k2*h,params)\n",
        "      k4 = f( ti + h,xi + k3*h,params) \n",
        "\n",
        "      xi = xi + h*(k1 + 2*k2 + 2*k3 + k4)/6\n",
        "      ti = ti + h\n",
        "    return t, x"
      ],
      "execution_count": 0,
      "outputs": []
    },
    {
      "cell_type": "markdown",
      "metadata": {
        "id": "mh3iAJ0Ynq3p",
        "colab_type": "text"
      },
      "source": [
        "## <span style=\"color:red\"> Ex 1.</span> Comparación de métodos  \n",
        "\n",
        "Dada la ecuación diferencial:\n",
        "\n",
        "$\\dot x = ax$\n",
        "\n",
        "Siendo $a \\in \\Re$ una constante cualquiera. Grafique la solución analítica y las aproximaciones numéricas obtenidas con el método de Euler y con el método RK4.\n",
        "\n",
        "Varíe el paso de integración $h$ a fin de observar cómo varía la precisión de los resultados numéricos a medida que éste se hace más pequeño."
      ]
    },
    {
      "cell_type": "code",
      "metadata": {
        "id": "xLJDuE3mnq3u",
        "colab_type": "code",
        "colab": {}
      },
      "source": [
        "def sistema_1(t, x, a):\n",
        "    #x_dot = sin(x)\n",
        "    x_dot = a*x\n",
        "    return x_dot\n",
        "    "
      ],
      "execution_count": 0,
      "outputs": []
    },
    {
      "cell_type": "code",
      "metadata": {
        "id": "yP0szTfwnq34",
        "colab_type": "code",
        "outputId": "ea2cf36e-4b18-4f69-996f-29b1602550b3",
        "colab": {
          "base_uri": "https://localhost:8080/",
          "height": 459
        }
      },
      "source": [
        "a = -1\n",
        "h = 0.1\n",
        "tini = 0\n",
        "tfin = 10\n",
        "x0 = 0.8\n",
        "\n",
        "\n",
        "\n",
        "t = np.linspace(0,10,1001) \n",
        "x = x0*np.exp(a*t)\n",
        "\n",
        "t1,x1 = euler( sistema_1, h, tini, tfin, x0, a )\n",
        "t2,x2 = rk4( sistema_1, h, tini, tfin, x0, a )\n",
        "\n",
        "\n",
        "plt.figure()\n",
        "#gráfica de analítica:\n",
        "plt.plot(  t, x, 'black', label = 'Analytical', linewidth = 2)\n",
        "# gráfica de euler:\n",
        "plt.scatter( t1, x1, c = 'crimson', label = 'Euler', s = 50)\n",
        "# gráfica de rk4:\n",
        "plt.scatter( t2, x2, c = 'royalblue', label = 'RK4', s = 50)\n",
        "\n",
        "x0 = 4\n",
        "t1,x1 = euler( sistema_1, h, tini, tfin, x0, a )\n",
        "plt.scatter( t1, x1, c = 'crimson', label = 'Euler', s = 50)\n",
        "\n",
        "plt.xlim([0, tfin])\n",
        "#plt.ylim([-3.14, 6.28])\n",
        "plt.xlabel(r'$t$')\n",
        "plt.grid()\n",
        "plt.legend(loc = 'best')\n",
        "plt.show()"
      ],
      "execution_count": 0,
      "outputs": [
        {
          "output_type": "display_data",
          "data": {
            "image/png": "[encoded data removed]",
            "text/plain": [
              "<Figure size 640x480 with 1 Axes>"
            ]
          },
          "metadata": {
            "tags": []
          }
        }
      ]
    },
    {
      "cell_type": "code",
      "metadata": {
        "id": "Q0AvsUzKjU4p",
        "colab_type": "code",
        "colab": {}
      },
      "source": [
        ""
      ],
      "execution_count": 0,
      "outputs": []
    }
  ]
}